{
 "cells": [
  {
   "cell_type": "markdown",
   "id": "06804d6a-db4a-40ce-a42a-7dd5766b419f",
   "metadata": {},
   "source": [
    "# AI-Driven Algo Trading Strategies"
   ]
  },
  {
   "cell_type": "markdown",
   "id": "a77dd897",
   "metadata": {},
   "source": [
    "# PART II – Live Prediction Using Trained LSTM Model"
   ]
  },
  {
   "cell_type": "markdown",
   "id": "d9202eb9-db3c-454e-8e73-a031be3ce47b",
   "metadata": {},
   "source": [
    "## Section 0: Import Libraries"
   ]
  },
  {
   "cell_type": "code",
   "execution_count": 2,
   "id": "65993504-7e2d-4ad4-9a33-681f16e249ce",
   "metadata": {},
   "outputs": [],
   "source": [
    "# Core Python libraries\n",
    "import numpy as np\n",
    "import pandas as pd\n",
    "\n",
    "# Visualization (optional)\n",
    "import matplotlib.pyplot as plt\n",
    "\n",
    "# Model and Scaler\n",
    "from tensorflow.keras.models import load_model\n",
    "import tensorflow.keras.backend as K\n",
    "import tensorflow as tf\n",
    "import joblib\n",
    "\n",
    "# Live data\n",
    "import yfinance as yf\n",
    "\n",
    "# System / date handling (if needed for formatting/logging)\n",
    "from datetime import datetime\n"
   ]
  },
  {
   "cell_type": "markdown",
   "id": "83199b04",
   "metadata": {},
   "source": [
    "## Section 1: Load the Trained Model and Scaler"
   ]
  },
  {
   "cell_type": "code",
   "execution_count": 3,
   "id": "7c69949c",
   "metadata": {},
   "outputs": [
    {
     "name": "stderr",
     "output_type": "stream",
     "text": [
      "WARNING:absl:Compiled the loaded model, but the compiled metrics have yet to be built. `model.compile_metrics` will be empty until you train or evaluate the model.\n"
     ]
    }
   ],
   "source": [
    "# Define custom loss again (used during training)\n",
    "def focal_loss_fixed(y_true, y_pred, gamma=2., alpha=0.25):\n",
    "    epsilon = K.epsilon()\n",
    "    y_pred = K.clip(y_pred, epsilon, 1. - epsilon)\n",
    "    pt = tf.where(K.equal(y_true, 1), y_pred, 1 - y_pred)\n",
    "    return -K.mean(alpha * K.pow(1. - pt, gamma) * K.log(pt))\n",
    "\n",
    "# Load model and scaler\n",
    "model = load_model('lstm_model.h5', custom_objects={'focal_loss_fixed': focal_loss_fixed})\n",
    "scaler = joblib.load('scaler.pkl')"
   ]
  },
  {
   "cell_type": "markdown",
   "id": "0fac2783",
   "metadata": {},
   "source": [
    "## Section 2: Download Recent Stock Data (e.g., AAPL from yfinance)"
   ]
  },
  {
   "cell_type": "code",
   "execution_count": 4,
   "id": "d3008e80",
   "metadata": {},
   "outputs": [
    {
     "name": "stderr",
     "output_type": "stream",
     "text": [
      "C:\\Users\\BAISAMPAYAN\\AppData\\Local\\Temp\\ipykernel_29032\\203224906.py:1: FutureWarning: YF.download() has changed argument auto_adjust default to True\n",
      "  df = yf.download('AAPL', period='100d', interval='1d')\n",
      "[*********************100%***********************]  1 of 1 completed\n"
     ]
    }
   ],
   "source": [
    "df = yf.download('AAPL', period='100d', interval='1d')\n",
    "df.reset_index(inplace=True)"
   ]
  },
  {
   "cell_type": "markdown",
   "id": "49ace18a",
   "metadata": {},
   "source": [
    "## Section 3: Feature Engineering (Same as Training)"
   ]
  },
  {
   "cell_type": "code",
   "execution_count": 5,
   "id": "4bfd7799",
   "metadata": {},
   "outputs": [],
   "source": [
    "df['High_Low_Range'] = df['High'] - df['Low']\n",
    "df['Close_Change'] = df['Close'].pct_change()\n",
    "df['SMA_10'] = df['Close'].rolling(10).mean()\n",
    "df['SMA_50'] = df['Close'].rolling(50).mean()\n",
    "df['Momentum_5'] = df['Close'] - df['Close'].shift(5)\n",
    "df['Volatility_5'] = df['Close_Change'].rolling(5).std()\n",
    "df.dropna(inplace=True)\n",
    "\n",
    "features = ['Close', 'Volume', 'High_Low_Range', 'Momentum_5', 'Volatility_5', 'SMA_10', 'SMA_50']"
   ]
  },
  {
   "cell_type": "markdown",
   "id": "96bd0a06",
   "metadata": {},
   "source": [
    "## Section 4: Prepare Sequence and Predict"
   ]
  },
  {
   "cell_type": "code",
   "execution_count": 6,
   "id": "c2c91388",
   "metadata": {},
   "outputs": [
    {
     "name": "stderr",
     "output_type": "stream",
     "text": [
      "c:\\Users\\BAISAMPAYAN\\AppData\\Local\\Programs\\Python\\Python39\\lib\\site-packages\\sklearn\\utils\\validation.py:2739: UserWarning: X does not have valid feature names, but MinMaxScaler was fitted with feature names\n",
      "  warnings.warn(\n"
     ]
    },
    {
     "name": "stdout",
     "output_type": "stream",
     "text": [
      "\u001b[1m1/1\u001b[0m \u001b[32m━━━━━━━━━━━━━━━━━━━━\u001b[0m\u001b[37m\u001b[0m \u001b[1m0s\u001b[0m 169ms/step\n",
      "Predicted Action: Hold\n",
      "Prediction Probabilities: [[0.11376458 0.00494228 0.8812931 ]]\n"
     ]
    }
   ],
   "source": [
    "X_live = df[features].tail(15).values\n",
    "X_scaled = scaler.transform(X_live)\n",
    "X_input = X_scaled.reshape(1, 15, len(features))\n",
    "\n",
    "y_pred = model.predict(X_input)\n",
    "predicted_class = y_pred.argmax()\n",
    "actions = ['Sell', 'Buy', 'Hold']\n",
    "print(\"Predicted Action:\", actions[predicted_class])\n",
    "print(\"Prediction Probabilities:\", y_pred)"
   ]
  },
  {
   "cell_type": "markdown",
   "id": "e97d0c31",
   "metadata": {},
   "source": [
    "## Section 5: Mock Broker for Simulated Trade Execution"
   ]
  },
  {
   "cell_type": "code",
   "execution_count": 7,
   "id": "5ea1e5be",
   "metadata": {},
   "outputs": [],
   "source": [
    "class MockBroker:\n",
    "    def __init__(self, initial_cash=100000):\n",
    "        self.cash = initial_cash\n",
    "        self.position = 0\n",
    "        self.trade_log = []\n",
    "\n",
    "    def buy(self, price, date):\n",
    "        if self.cash > price:\n",
    "            self.position += 1\n",
    "            self.cash -= price\n",
    "            self.trade_log.append((date, 'BUY', price))\n",
    "\n",
    "    def sell(self, price, date):\n",
    "        if self.position > 0:\n",
    "            self.position -= 1\n",
    "            self.cash += price\n",
    "            self.trade_log.append((date, 'SELL', price))\n",
    "\n",
    "    def summary(self):\n",
    "        print(f'Cash: ₹{self.cash:.2f}, Position: {self.position} shares')\n",
    "        for log in self.trade_log:\n",
    "            print(log)"
   ]
  },
  {
   "cell_type": "markdown",
   "id": "2b77a6c0",
   "metadata": {},
   "source": [
    "## Section 6: Run Trade Based on Prediction"
   ]
  },
  {
   "cell_type": "code",
   "execution_count": 8,
   "id": "c99e84f6",
   "metadata": {},
   "outputs": [
    {
     "name": "stdout",
     "output_type": "stream",
     "text": [
      "Cash: ₹100000.00, Position: 0 shares\n"
     ]
    }
   ],
   "source": [
    "latest_date = df['Date'].iloc[-1]\n",
    "latest_price = df['Close'].iloc[-1]\n",
    "\n",
    "broker = MockBroker()\n",
    "if predicted_class == 0:\n",
    "    broker.sell(latest_price, latest_date)\n",
    "elif predicted_class == 1:\n",
    "    broker.buy(latest_price, latest_date)\n",
    "\n",
    "broker.summary()"
   ]
  },
  {
   "cell_type": "markdown",
   "id": "d0096e6a-7afb-4e0f-a660-6a9e08be2de7",
   "metadata": {},
   "source": [
    "## Conclusion:\n",
    "---\n",
    "\n",
    "### Part I Recap: Model Training & Evaluation\n",
    "- We built and trained an LSTM model using historical stock data.\n",
    "- Engineered technical indicators such as moving averages, momentum, and volatility.\n",
    "- Applied label generation for Buy, Sell, and Hold signals.\n",
    "- Handled class imbalance using focal loss.\n",
    "- Evaluated model performance with classification metrics and visualizations.\n",
    "- Simulated backtesting to compare model-driven returns with market performance.\n",
    "- Exported the trained model and scaler for future inference.\n",
    "\n",
    "---\n",
    "\n",
    "### Part II Recap: Live Prediction & Trade Simulation\n",
    "- Loaded the trained model and scaler.\n",
    "- Fetched recent stock data using `yfinance`.\n",
    "- Applied the same preprocessing and feature engineering as in training.\n",
    "- Used the model to predict real-time trading actions.\n",
    "- Simulated buy/sell/hold decisions using a mock trading broker.\n",
    "\n",
    "---\n",
    "\n",
    "Keep experimenting, stay curious, and remember: in trading, **discipline beats complexity**. Happy trading!\n"
   ]
  }
 ],
 "metadata": {
  "kernelspec": {
   "display_name": "Python 3",
   "language": "python",
   "name": "python3"
  },
  "language_info": {
   "codemirror_mode": {
    "name": "ipython",
    "version": 3
   },
   "file_extension": ".py",
   "mimetype": "text/x-python",
   "name": "python",
   "nbconvert_exporter": "python",
   "pygments_lexer": "ipython3",
   "version": "3.9.7"
  }
 },
 "nbformat": 4,
 "nbformat_minor": 5
}
